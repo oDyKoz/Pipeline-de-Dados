{
 "cells": [
  {
   "cell_type": "markdown",
   "metadata": {},
   "source": [
    "Lendo os dados"
   ]
  },
  {
   "cell_type": "code",
   "execution_count": 6,
   "metadata": {},
   "outputs": [],
   "source": [
    "path_json = '../data_raw/dados_empresaA.json'"
   ]
  },
  {
   "cell_type": "code",
   "execution_count": null,
   "metadata": {},
   "outputs": [],
   "source": [
    "with open(path_json, 'r') as file:\n",
    "    print(file.readline())"
   ]
  },
  {
   "cell_type": "code",
   "execution_count": 8,
   "metadata": {},
   "outputs": [],
   "source": [
    "with open(path_json, 'r') as file:\n",
    "    dados = file.readline()"
   ]
  },
  {
   "cell_type": "code",
   "execution_count": null,
   "metadata": {},
   "outputs": [],
   "source": [
    "dados[10]"
   ]
  },
  {
   "cell_type": "code",
   "execution_count": 10,
   "metadata": {},
   "outputs": [],
   "source": [
    "import json"
   ]
  },
  {
   "cell_type": "code",
   "execution_count": null,
   "metadata": {},
   "outputs": [],
   "source": [
    "with open(path_json, 'r') as file:\n",
    "    content = file.read().strip()  # Remove espaços em branco\n",
    "    if content:  # Verifica se o arquivo não está vazio\n",
    "        dados_json = json.loads(content)\n",
    "    else:\n",
    "        print(\"O arquivo está vazio.\")"
   ]
  },
  {
   "cell_type": "code",
   "execution_count": null,
   "metadata": {},
   "outputs": [],
   "source": [
    "dados_json[0]"
   ]
  },
  {
   "cell_type": "code",
   "execution_count": 12,
   "metadata": {},
   "outputs": [],
   "source": [
    "path_csv = '../data_raw/dados_empresaB.csv'"
   ]
  },
  {
   "cell_type": "code",
   "execution_count": null,
   "metadata": {},
   "outputs": [],
   "source": [
    "with open(path_csv, 'r') as file:\n",
    "    print(file.readlines()[1])"
   ]
  },
  {
   "cell_type": "code",
   "execution_count": 64,
   "metadata": {},
   "outputs": [],
   "source": [
    "with open(path_csv, 'r') as file:\n",
    "    dados_csv = file.readlines()"
   ]
  },
  {
   "cell_type": "code",
   "execution_count": null,
   "metadata": {},
   "outputs": [],
   "source": [
    "dados_csv[1][0]"
   ]
  },
  {
   "cell_type": "code",
   "execution_count": 15,
   "metadata": {},
   "outputs": [],
   "source": [
    "import csv"
   ]
  },
  {
   "cell_type": "code",
   "execution_count": 16,
   "metadata": {},
   "outputs": [],
   "source": [
    "dados_csv = []\n",
    "with open(path_csv, 'r') as file:\n",
    "    spamreader = csv.reader(file, delimiter=',')\n",
    "    for row in spamreader:\n",
    "        dados_csv.append(row)"
   ]
  },
  {
   "cell_type": "code",
   "execution_count": null,
   "metadata": {},
   "outputs": [],
   "source": [
    "dados_csv[1]"
   ]
  },
  {
   "cell_type": "code",
   "execution_count": 18,
   "metadata": {},
   "outputs": [],
   "source": [
    "dados_csv = []\n",
    "with open(path_csv, 'r') as file:\n",
    "    spamreader = csv.DictReader(file, delimiter=',')\n",
    "    for row in spamreader:\n",
    "        dados_csv.append(row)"
   ]
  },
  {
   "cell_type": "code",
   "execution_count": 25,
   "metadata": {},
   "outputs": [
    {
     "data": {
      "text/plain": [
       "{'Nome do Item': 'Lápis de sobrancelha',\n",
       " 'Classificação do Produto': 'Roupas',\n",
       " 'Valor em Reais (R$)': '55.17',\n",
       " 'Quantidade em Estoque': '62',\n",
       " 'Nome da Loja': 'Filial 1',\n",
       " 'Data da Venda': '2023-04-13 18:58:06.794203'}"
      ]
     },
     "execution_count": 25,
     "metadata": {},
     "output_type": "execute_result"
    }
   ],
   "source": [
    "dados_csv[0]"
   ]
  },
  {
   "cell_type": "code",
   "execution_count": null,
   "metadata": {},
   "outputs": [],
   "source": [
    "nome_colunas_json = list(dados_json[0].keys())\n",
    "nome_colunas_json"
   ]
  },
  {
   "cell_type": "code",
   "execution_count": null,
   "metadata": {},
   "outputs": [],
   "source": [
    "len(dados_json)"
   ]
  },
  {
   "cell_type": "code",
   "execution_count": null,
   "metadata": {},
   "outputs": [],
   "source": [
    "nome_colunas_csv = list(dados_csv[0].keys())\n",
    "nome_colunas_csv"
   ]
  },
  {
   "cell_type": "code",
   "execution_count": null,
   "metadata": {},
   "outputs": [],
   "source": [
    "len(dados_csv)"
   ]
  },
  {
   "cell_type": "code",
   "execution_count": null,
   "metadata": {},
   "outputs": [],
   "source": [
    "key_mapping = {'Nome do Item': 'Nome do Produto',\n",
    "                'Classificação do Produto': 'Categoria do Produto',\n",
    "                'Valor em Reais (R$)': 'Preço do Produto (R$)',\n",
    "                'Quantidade em Estoque': 'Quantidade em Estoque',\n",
    "                'Nome da Loja': 'Filial',\n",
    "                'Data da Venda': 'Data da Venda'}\n",
    "key_mapping"
   ]
  },
  {
   "cell_type": "code",
   "execution_count": null,
   "metadata": {},
   "outputs": [],
   "source": [
    "new_dados_csv = []\n",
    "\n",
    "for old_dict in dados_csv:\n",
    "    dict_temp = {}\n",
    "    for old_key, value in old_dict.items():\n",
    "        dict_temp[new_dados_csv[old_key]] = value\n",
    "    new_dados_csv.append(dict_temp)\n",
    "new_dados_csv[0]"
   ]
  }
 ],
 "metadata": {
  "kernelspec": {
   "display_name": "Python 3",
   "language": "python",
   "name": "python3"
  },
  "language_info": {
   "codemirror_mode": {
    "name": "ipython",
    "version": 3
   },
   "file_extension": ".py",
   "mimetype": "text/x-python",
   "name": "python",
   "nbconvert_exporter": "python",
   "pygments_lexer": "ipython3",
   "version": "3.10.12"
  }
 },
 "nbformat": 4,
 "nbformat_minor": 2
}
